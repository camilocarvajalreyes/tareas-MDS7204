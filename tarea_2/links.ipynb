{
 "cells": [
  {
   "cell_type": "markdown",
   "metadata": {},
   "source": [
    "Yule Walker\n",
    "\n",
    "http://thomas-cokelaer.info/software/spectrum/html/user/tutorial_yulewalker.html\n",
    "\n",
    "L-S\n",
    "\n",
    "https://docs.scipy.org/doc/scipy/reference/generated/scipy.signal.lombscargle.html\n",
    "\n",
    "https://jakevdp.github.io/blog/2017/03/30/practical-lomb-scargle/\n",
    "\n",
    "General PSD\n",
    "\n",
    "https://dlsun.github.io/probability/psd.html\n",
    "\n",
    "Fourier Transform\n",
    "\n",
    "https://en.wikipedia.org/wiki/Fast_Fourier_transform#/media/File:FFT_of_Cosine_Summation_Function.svg"
   ]
  }
 ],
 "metadata": {
  "kernelspec": {
   "display_name": "Python 3.9.12 ('aml_env')",
   "language": "python",
   "name": "python3"
  },
  "language_info": {
   "name": "python",
   "version": "3.9.12"
  },
  "orig_nbformat": 4,
  "vscode": {
   "interpreter": {
    "hash": "7b78de3dda661e2becbc18e6de00468a3dfbc0807d9d73937b941732123f7a65"
   }
  }
 },
 "nbformat": 4,
 "nbformat_minor": 2
}
