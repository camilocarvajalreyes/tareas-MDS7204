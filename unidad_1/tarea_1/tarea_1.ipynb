{
 "cells": [
  {
   "cell_type": "code",
   "execution_count": 1,
   "metadata": {},
   "outputs": [],
   "source": [
    "import numpy as np\n",
    "\n",
    "np.random.seed(0)"
   ]
  },
  {
   "cell_type": "code",
   "execution_count": 2,
   "metadata": {},
   "outputs": [
    {
     "name": "stdout",
     "output_type": "stream",
     "text": [
      "Valor de A = 0.5488135039273248\n",
      "Valor de B = 1.0860757465489677\n",
      "Valor de C = 0.6027633760716439\n",
      "Valor de D = 0.5179532731987587\n"
     ]
    }
   ],
   "source": [
    "A = np.random.uniform(0,1)\n",
    "B = np.random.uniform(0.8,1.2)\n",
    "C = np.random.uniform(0,1)\n",
    "D = np.random.uniform(0.3,0.7)\n",
    "\n",
    "print(\"Valor de A = {}\\nValor de B = {}\\nValor de C = {}\\nValor de D = {}\".format(A,B,C,D))"
   ]
  },
  {
   "cell_type": "code",
   "execution_count": null,
   "metadata": {},
   "outputs": [],
   "source": []
  }
 ],
 "metadata": {
  "kernelspec": {
   "display_name": "Python 3.9.12 ('aml_env')",
   "language": "python",
   "name": "python3"
  },
  "language_info": {
   "codemirror_mode": {
    "name": "ipython",
    "version": 3
   },
   "file_extension": ".py",
   "mimetype": "text/x-python",
   "name": "python",
   "nbconvert_exporter": "python",
   "pygments_lexer": "ipython3",
   "version": "3.9.12"
  },
  "orig_nbformat": 4,
  "vscode": {
   "interpreter": {
    "hash": "7b78de3dda661e2becbc18e6de00468a3dfbc0807d9d73937b941732123f7a65"
   }
  }
 },
 "nbformat": 4,
 "nbformat_minor": 2
}
